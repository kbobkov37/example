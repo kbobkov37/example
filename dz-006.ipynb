{
 "cells": [
  {
   "cell_type": "markdown",
   "id": "b3a3b9ab",
   "metadata": {
    "id": "M2_K5AdXBWoN",
    "papermill": {
     "duration": 0.006499,
     "end_time": "2025-07-02T14:27:22.175435",
     "exception": false,
     "start_time": "2025-07-02T14:27:22.168936",
     "status": "completed"
    },
    "tags": []
   },
   "source": [
    "# Домашняя работа 6\n",
    "В дз всего 5 заданий, каждое задание весит 1/3 от оценки. Т.е. для сдачи работы нужно выполнить 3 задания из 5 на выбор."
   ]
  },
  {
   "cell_type": "code",
   "execution_count": 1,
   "id": "94b13854",
   "metadata": {
    "execution": {
     "iopub.execute_input": "2025-07-02T14:27:22.189072Z",
     "iopub.status.busy": "2025-07-02T14:27:22.188687Z",
     "iopub.status.idle": "2025-07-02T14:27:26.248628Z",
     "shell.execute_reply": "2025-07-02T14:27:26.247210Z"
    },
    "id": "GVHxbtvTANaj",
    "papermill": {
     "duration": 4.069286,
     "end_time": "2025-07-02T14:27:26.251152",
     "exception": false,
     "start_time": "2025-07-02T14:27:22.181866",
     "status": "completed"
    },
    "tags": []
   },
   "outputs": [],
   "source": [
    "import pandas as pd\n",
    "import warnings\n",
    "warnings.simplefilter(action = \"ignore\", category = RuntimeWarning)\n",
    "import matplotlib.pyplot as plt\n",
    "import seaborn as sns\n",
    "iris = pd.read_csv('/kaggle/input/iris-dataset/iris.csv')"
   ]
  },
  {
   "cell_type": "markdown",
   "id": "d1b83d2d",
   "metadata": {
    "id": "QwNB9BFbAEwh",
    "papermill": {
     "duration": 0.006652,
     "end_time": "2025-07-02T14:27:26.265220",
     "exception": false,
     "start_time": "2025-07-02T14:27:26.258568",
     "status": "completed"
    },
    "tags": []
   },
   "source": [
    "Задание 1. Исследование структуры и фильтрация данных\n",
    "\n",
    "1.\tВыведите на экран:\n",
    "\t*\tколичество строк и столбцов в таблице;\n",
    "\t*\tсписок всех названий столбцов;\n",
    "\t*\tчисло уникальных значений в столбце species;\n",
    "\t*\tобщее количество пропущенных значений по каждому столбцу (если есть).\n",
    "2.\tСоздайте таблицу df_setosa, содержащую только наблюдения для вида \"setosa\".\n",
    "3.\tСоздайте таблицу df_filtered, содержащую только те строки, где одновременно выполняются условия:\n",
    "\t*\tpetal_length > 3.0;\n",
    "\t*\tsepal_width < 3.2.\n",
    "4.\tПостройте гистограмму распределения признака petal_width на основе таблицы df_filtered. Укажите оси, добавьте заголовок и сетку.\n"
   ]
  },
  {
   "cell_type": "code",
   "execution_count": 2,
   "id": "96c22d68",
   "metadata": {
    "execution": {
     "iopub.execute_input": "2025-07-02T14:27:26.278526Z",
     "iopub.status.busy": "2025-07-02T14:27:26.278093Z",
     "iopub.status.idle": "2025-07-02T14:27:26.286542Z",
     "shell.execute_reply": "2025-07-02T14:27:26.285400Z"
    },
    "papermill": {
     "duration": 0.017632,
     "end_time": "2025-07-02T14:27:26.288483",
     "exception": false,
     "start_time": "2025-07-02T14:27:26.270851",
     "status": "completed"
    },
    "tags": []
   },
   "outputs": [
    {
     "data": {
      "text/plain": [
       "(150, 5)"
      ]
     },
     "execution_count": 2,
     "metadata": {},
     "output_type": "execute_result"
    }
   ],
   "source": [
    "# Выведите на экран:\n",
    "#   количество строк и столбцов в таблице;\n",
    "\n",
    "iris.shape"
   ]
  },
  {
   "cell_type": "code",
   "execution_count": 3,
   "id": "fb8056f7",
   "metadata": {
    "execution": {
     "iopub.execute_input": "2025-07-02T14:27:26.305493Z",
     "iopub.status.busy": "2025-07-02T14:27:26.305097Z",
     "iopub.status.idle": "2025-07-02T14:27:26.311266Z",
     "shell.execute_reply": "2025-07-02T14:27:26.310437Z"
    },
    "papermill": {
     "duration": 0.016208,
     "end_time": "2025-07-02T14:27:26.312943",
     "exception": false,
     "start_time": "2025-07-02T14:27:26.296735",
     "status": "completed"
    },
    "tags": []
   },
   "outputs": [
    {
     "data": {
      "text/plain": [
       "['sepal_length', 'sepal_width', 'petal_length', 'petal_width', 'species']"
      ]
     },
     "execution_count": 3,
     "metadata": {},
     "output_type": "execute_result"
    }
   ],
   "source": [
    "# Выведите на экран:\n",
    "#   список всех названий столбцов;\n",
    "\n",
    "iris.columns.tolist()"
   ]
  },
  {
   "cell_type": "code",
   "execution_count": 4,
   "id": "63c30300",
   "metadata": {
    "execution": {
     "iopub.execute_input": "2025-07-02T14:27:26.326196Z",
     "iopub.status.busy": "2025-07-02T14:27:26.325904Z",
     "iopub.status.idle": "2025-07-02T14:27:26.339457Z",
     "shell.execute_reply": "2025-07-02T14:27:26.338456Z"
    },
    "papermill": {
     "duration": 0.022165,
     "end_time": "2025-07-02T14:27:26.341030",
     "exception": false,
     "start_time": "2025-07-02T14:27:26.318865",
     "status": "completed"
    },
    "tags": []
   },
   "outputs": [
    {
     "data": {
      "text/plain": [
       "['setosa', 'versicolor', 'virginica']"
      ]
     },
     "execution_count": 4,
     "metadata": {},
     "output_type": "execute_result"
    }
   ],
   "source": [
    "# Выведите на экран:\n",
    "#   число уникальных значений в столбце species;\n",
    "\n",
    "iris['species'].unique().tolist()"
   ]
  },
  {
   "cell_type": "code",
   "execution_count": 5,
   "id": "3fa66274",
   "metadata": {
    "execution": {
     "iopub.execute_input": "2025-07-02T14:27:26.354422Z",
     "iopub.status.busy": "2025-07-02T14:27:26.353965Z",
     "iopub.status.idle": "2025-07-02T14:27:26.363034Z",
     "shell.execute_reply": "2025-07-02T14:27:26.361984Z"
    },
    "papermill": {
     "duration": 0.01775,
     "end_time": "2025-07-02T14:27:26.364697",
     "exception": false,
     "start_time": "2025-07-02T14:27:26.346947",
     "status": "completed"
    },
    "tags": []
   },
   "outputs": [
    {
     "data": {
      "text/plain": [
       "sepal_length    0\n",
       "sepal_width     0\n",
       "petal_length    0\n",
       "petal_width     0\n",
       "species         0\n",
       "dtype: int64"
      ]
     },
     "execution_count": 5,
     "metadata": {},
     "output_type": "execute_result"
    }
   ],
   "source": [
    "# Выведите на экран:\n",
    "#   общее количество пропущенных значений по каждому столбцу (если есть).\n",
    "\n",
    "iris.isna().sum()"
   ]
  },
  {
   "cell_type": "code",
   "execution_count": 6,
   "id": "1fa2bf22",
   "metadata": {
    "execution": {
     "iopub.execute_input": "2025-07-02T14:27:26.378179Z",
     "iopub.status.busy": "2025-07-02T14:27:26.377870Z",
     "iopub.status.idle": "2025-07-02T14:27:26.385152Z",
     "shell.execute_reply": "2025-07-02T14:27:26.384324Z"
    },
    "papermill": {
     "duration": 0.015936,
     "end_time": "2025-07-02T14:27:26.386657",
     "exception": false,
     "start_time": "2025-07-02T14:27:26.370721",
     "status": "completed"
    },
    "tags": []
   },
   "outputs": [
    {
     "data": {
      "text/plain": [
       "sepal_length    0\n",
       "sepal_width     0\n",
       "petal_length    0\n",
       "petal_width     0\n",
       "species         0\n",
       "dtype: int64"
      ]
     },
     "execution_count": 6,
     "metadata": {},
     "output_type": "execute_result"
    }
   ],
   "source": [
    "iris.isnull().sum()"
   ]
  },
  {
   "cell_type": "code",
   "execution_count": 7,
   "id": "9677c4da",
   "metadata": {
    "execution": {
     "iopub.execute_input": "2025-07-02T14:27:26.399702Z",
     "iopub.status.busy": "2025-07-02T14:27:26.399365Z",
     "iopub.status.idle": "2025-07-02T14:27:26.436091Z",
     "shell.execute_reply": "2025-07-02T14:27:26.435010Z"
    },
    "papermill": {
     "duration": 0.04524,
     "end_time": "2025-07-02T14:27:26.437929",
     "exception": false,
     "start_time": "2025-07-02T14:27:26.392689",
     "status": "completed"
    },
    "tags": []
   },
   "outputs": [
    {
     "data": {
      "text/html": [
       "<div>\n",
       "<style scoped>\n",
       "    .dataframe tbody tr th:only-of-type {\n",
       "        vertical-align: middle;\n",
       "    }\n",
       "\n",
       "    .dataframe tbody tr th {\n",
       "        vertical-align: top;\n",
       "    }\n",
       "\n",
       "    .dataframe thead th {\n",
       "        text-align: right;\n",
       "    }\n",
       "</style>\n",
       "<table border=\"1\" class=\"dataframe\">\n",
       "  <thead>\n",
       "    <tr style=\"text-align: right;\">\n",
       "      <th></th>\n",
       "      <th>sepal_length</th>\n",
       "      <th>sepal_width</th>\n",
       "      <th>petal_length</th>\n",
       "      <th>petal_width</th>\n",
       "      <th>species</th>\n",
       "    </tr>\n",
       "  </thead>\n",
       "  <tbody>\n",
       "    <tr>\n",
       "      <th>0</th>\n",
       "      <td>5.1</td>\n",
       "      <td>3.5</td>\n",
       "      <td>1.4</td>\n",
       "      <td>0.2</td>\n",
       "      <td>setosa</td>\n",
       "    </tr>\n",
       "    <tr>\n",
       "      <th>1</th>\n",
       "      <td>4.9</td>\n",
       "      <td>3.0</td>\n",
       "      <td>1.4</td>\n",
       "      <td>0.2</td>\n",
       "      <td>setosa</td>\n",
       "    </tr>\n",
       "    <tr>\n",
       "      <th>2</th>\n",
       "      <td>4.7</td>\n",
       "      <td>3.2</td>\n",
       "      <td>1.3</td>\n",
       "      <td>0.2</td>\n",
       "      <td>setosa</td>\n",
       "    </tr>\n",
       "    <tr>\n",
       "      <th>3</th>\n",
       "      <td>4.6</td>\n",
       "      <td>3.1</td>\n",
       "      <td>1.5</td>\n",
       "      <td>0.2</td>\n",
       "      <td>setosa</td>\n",
       "    </tr>\n",
       "    <tr>\n",
       "      <th>4</th>\n",
       "      <td>5.0</td>\n",
       "      <td>3.6</td>\n",
       "      <td>1.4</td>\n",
       "      <td>0.2</td>\n",
       "      <td>setosa</td>\n",
       "    </tr>\n",
       "    <tr>\n",
       "      <th>5</th>\n",
       "      <td>5.4</td>\n",
       "      <td>3.9</td>\n",
       "      <td>1.7</td>\n",
       "      <td>0.4</td>\n",
       "      <td>setosa</td>\n",
       "    </tr>\n",
       "    <tr>\n",
       "      <th>6</th>\n",
       "      <td>4.6</td>\n",
       "      <td>3.4</td>\n",
       "      <td>1.4</td>\n",
       "      <td>0.3</td>\n",
       "      <td>setosa</td>\n",
       "    </tr>\n",
       "    <tr>\n",
       "      <th>7</th>\n",
       "      <td>5.0</td>\n",
       "      <td>3.4</td>\n",
       "      <td>1.5</td>\n",
       "      <td>0.2</td>\n",
       "      <td>setosa</td>\n",
       "    </tr>\n",
       "    <tr>\n",
       "      <th>8</th>\n",
       "      <td>4.4</td>\n",
       "      <td>2.9</td>\n",
       "      <td>1.4</td>\n",
       "      <td>0.2</td>\n",
       "      <td>setosa</td>\n",
       "    </tr>\n",
       "    <tr>\n",
       "      <th>9</th>\n",
       "      <td>4.9</td>\n",
       "      <td>3.1</td>\n",
       "      <td>1.5</td>\n",
       "      <td>0.1</td>\n",
       "      <td>setosa</td>\n",
       "    </tr>\n",
       "    <tr>\n",
       "      <th>10</th>\n",
       "      <td>5.4</td>\n",
       "      <td>3.7</td>\n",
       "      <td>1.5</td>\n",
       "      <td>0.2</td>\n",
       "      <td>setosa</td>\n",
       "    </tr>\n",
       "    <tr>\n",
       "      <th>11</th>\n",
       "      <td>4.8</td>\n",
       "      <td>3.4</td>\n",
       "      <td>1.6</td>\n",
       "      <td>0.2</td>\n",
       "      <td>setosa</td>\n",
       "    </tr>\n",
       "    <tr>\n",
       "      <th>12</th>\n",
       "      <td>4.8</td>\n",
       "      <td>3.0</td>\n",
       "      <td>1.4</td>\n",
       "      <td>0.1</td>\n",
       "      <td>setosa</td>\n",
       "    </tr>\n",
       "    <tr>\n",
       "      <th>13</th>\n",
       "      <td>4.3</td>\n",
       "      <td>3.0</td>\n",
       "      <td>1.1</td>\n",
       "      <td>0.1</td>\n",
       "      <td>setosa</td>\n",
       "    </tr>\n",
       "    <tr>\n",
       "      <th>14</th>\n",
       "      <td>5.8</td>\n",
       "      <td>4.0</td>\n",
       "      <td>1.2</td>\n",
       "      <td>0.2</td>\n",
       "      <td>setosa</td>\n",
       "    </tr>\n",
       "    <tr>\n",
       "      <th>15</th>\n",
       "      <td>5.7</td>\n",
       "      <td>4.4</td>\n",
       "      <td>1.5</td>\n",
       "      <td>0.4</td>\n",
       "      <td>setosa</td>\n",
       "    </tr>\n",
       "    <tr>\n",
       "      <th>16</th>\n",
       "      <td>5.4</td>\n",
       "      <td>3.9</td>\n",
       "      <td>1.3</td>\n",
       "      <td>0.4</td>\n",
       "      <td>setosa</td>\n",
       "    </tr>\n",
       "    <tr>\n",
       "      <th>17</th>\n",
       "      <td>5.1</td>\n",
       "      <td>3.5</td>\n",
       "      <td>1.4</td>\n",
       "      <td>0.3</td>\n",
       "      <td>setosa</td>\n",
       "    </tr>\n",
       "    <tr>\n",
       "      <th>18</th>\n",
       "      <td>5.7</td>\n",
       "      <td>3.8</td>\n",
       "      <td>1.7</td>\n",
       "      <td>0.3</td>\n",
       "      <td>setosa</td>\n",
       "    </tr>\n",
       "    <tr>\n",
       "      <th>19</th>\n",
       "      <td>5.1</td>\n",
       "      <td>3.8</td>\n",
       "      <td>1.5</td>\n",
       "      <td>0.3</td>\n",
       "      <td>setosa</td>\n",
       "    </tr>\n",
       "    <tr>\n",
       "      <th>20</th>\n",
       "      <td>5.4</td>\n",
       "      <td>3.4</td>\n",
       "      <td>1.7</td>\n",
       "      <td>0.2</td>\n",
       "      <td>setosa</td>\n",
       "    </tr>\n",
       "    <tr>\n",
       "      <th>21</th>\n",
       "      <td>5.1</td>\n",
       "      <td>3.7</td>\n",
       "      <td>1.5</td>\n",
       "      <td>0.4</td>\n",
       "      <td>setosa</td>\n",
       "    </tr>\n",
       "    <tr>\n",
       "      <th>22</th>\n",
       "      <td>4.6</td>\n",
       "      <td>3.6</td>\n",
       "      <td>1.0</td>\n",
       "      <td>0.2</td>\n",
       "      <td>setosa</td>\n",
       "    </tr>\n",
       "    <tr>\n",
       "      <th>23</th>\n",
       "      <td>5.1</td>\n",
       "      <td>3.3</td>\n",
       "      <td>1.7</td>\n",
       "      <td>0.5</td>\n",
       "      <td>setosa</td>\n",
       "    </tr>\n",
       "    <tr>\n",
       "      <th>24</th>\n",
       "      <td>4.8</td>\n",
       "      <td>3.4</td>\n",
       "      <td>1.9</td>\n",
       "      <td>0.2</td>\n",
       "      <td>setosa</td>\n",
       "    </tr>\n",
       "    <tr>\n",
       "      <th>25</th>\n",
       "      <td>5.0</td>\n",
       "      <td>3.0</td>\n",
       "      <td>1.6</td>\n",
       "      <td>0.2</td>\n",
       "      <td>setosa</td>\n",
       "    </tr>\n",
       "    <tr>\n",
       "      <th>26</th>\n",
       "      <td>5.0</td>\n",
       "      <td>3.4</td>\n",
       "      <td>1.6</td>\n",
       "      <td>0.4</td>\n",
       "      <td>setosa</td>\n",
       "    </tr>\n",
       "    <tr>\n",
       "      <th>27</th>\n",
       "      <td>5.2</td>\n",
       "      <td>3.5</td>\n",
       "      <td>1.5</td>\n",
       "      <td>0.2</td>\n",
       "      <td>setosa</td>\n",
       "    </tr>\n",
       "    <tr>\n",
       "      <th>28</th>\n",
       "      <td>5.2</td>\n",
       "      <td>3.4</td>\n",
       "      <td>1.4</td>\n",
       "      <td>0.2</td>\n",
       "      <td>setosa</td>\n",
       "    </tr>\n",
       "    <tr>\n",
       "      <th>29</th>\n",
       "      <td>4.7</td>\n",
       "      <td>3.2</td>\n",
       "      <td>1.6</td>\n",
       "      <td>0.2</td>\n",
       "      <td>setosa</td>\n",
       "    </tr>\n",
       "    <tr>\n",
       "      <th>30</th>\n",
       "      <td>4.8</td>\n",
       "      <td>3.1</td>\n",
       "      <td>1.6</td>\n",
       "      <td>0.2</td>\n",
       "      <td>setosa</td>\n",
       "    </tr>\n",
       "    <tr>\n",
       "      <th>31</th>\n",
       "      <td>5.4</td>\n",
       "      <td>3.4</td>\n",
       "      <td>1.5</td>\n",
       "      <td>0.4</td>\n",
       "      <td>setosa</td>\n",
       "    </tr>\n",
       "    <tr>\n",
       "      <th>32</th>\n",
       "      <td>5.2</td>\n",
       "      <td>4.1</td>\n",
       "      <td>1.5</td>\n",
       "      <td>0.1</td>\n",
       "      <td>setosa</td>\n",
       "    </tr>\n",
       "    <tr>\n",
       "      <th>33</th>\n",
       "      <td>5.5</td>\n",
       "      <td>4.2</td>\n",
       "      <td>1.4</td>\n",
       "      <td>0.2</td>\n",
       "      <td>setosa</td>\n",
       "    </tr>\n",
       "    <tr>\n",
       "      <th>34</th>\n",
       "      <td>4.9</td>\n",
       "      <td>3.1</td>\n",
       "      <td>1.5</td>\n",
       "      <td>0.1</td>\n",
       "      <td>setosa</td>\n",
       "    </tr>\n",
       "    <tr>\n",
       "      <th>35</th>\n",
       "      <td>5.0</td>\n",
       "      <td>3.2</td>\n",
       "      <td>1.2</td>\n",
       "      <td>0.2</td>\n",
       "      <td>setosa</td>\n",
       "    </tr>\n",
       "    <tr>\n",
       "      <th>36</th>\n",
       "      <td>5.5</td>\n",
       "      <td>3.5</td>\n",
       "      <td>1.3</td>\n",
       "      <td>0.2</td>\n",
       "      <td>setosa</td>\n",
       "    </tr>\n",
       "    <tr>\n",
       "      <th>37</th>\n",
       "      <td>4.9</td>\n",
       "      <td>3.1</td>\n",
       "      <td>1.5</td>\n",
       "      <td>0.1</td>\n",
       "      <td>setosa</td>\n",
       "    </tr>\n",
       "    <tr>\n",
       "      <th>38</th>\n",
       "      <td>4.4</td>\n",
       "      <td>3.0</td>\n",
       "      <td>1.3</td>\n",
       "      <td>0.2</td>\n",
       "      <td>setosa</td>\n",
       "    </tr>\n",
       "    <tr>\n",
       "      <th>39</th>\n",
       "      <td>5.1</td>\n",
       "      <td>3.4</td>\n",
       "      <td>1.5</td>\n",
       "      <td>0.2</td>\n",
       "      <td>setosa</td>\n",
       "    </tr>\n",
       "    <tr>\n",
       "      <th>40</th>\n",
       "      <td>5.0</td>\n",
       "      <td>3.5</td>\n",
       "      <td>1.3</td>\n",
       "      <td>0.3</td>\n",
       "      <td>setosa</td>\n",
       "    </tr>\n",
       "    <tr>\n",
       "      <th>41</th>\n",
       "      <td>4.5</td>\n",
       "      <td>2.3</td>\n",
       "      <td>1.3</td>\n",
       "      <td>0.3</td>\n",
       "      <td>setosa</td>\n",
       "    </tr>\n",
       "    <tr>\n",
       "      <th>42</th>\n",
       "      <td>4.4</td>\n",
       "      <td>3.2</td>\n",
       "      <td>1.3</td>\n",
       "      <td>0.2</td>\n",
       "      <td>setosa</td>\n",
       "    </tr>\n",
       "    <tr>\n",
       "      <th>43</th>\n",
       "      <td>5.0</td>\n",
       "      <td>3.5</td>\n",
       "      <td>1.6</td>\n",
       "      <td>0.6</td>\n",
       "      <td>setosa</td>\n",
       "    </tr>\n",
       "    <tr>\n",
       "      <th>44</th>\n",
       "      <td>5.1</td>\n",
       "      <td>3.8</td>\n",
       "      <td>1.9</td>\n",
       "      <td>0.4</td>\n",
       "      <td>setosa</td>\n",
       "    </tr>\n",
       "    <tr>\n",
       "      <th>45</th>\n",
       "      <td>4.8</td>\n",
       "      <td>3.0</td>\n",
       "      <td>1.4</td>\n",
       "      <td>0.3</td>\n",
       "      <td>setosa</td>\n",
       "    </tr>\n",
       "    <tr>\n",
       "      <th>46</th>\n",
       "      <td>5.1</td>\n",
       "      <td>3.8</td>\n",
       "      <td>1.6</td>\n",
       "      <td>0.2</td>\n",
       "      <td>setosa</td>\n",
       "    </tr>\n",
       "    <tr>\n",
       "      <th>47</th>\n",
       "      <td>4.6</td>\n",
       "      <td>3.2</td>\n",
       "      <td>1.4</td>\n",
       "      <td>0.2</td>\n",
       "      <td>setosa</td>\n",
       "    </tr>\n",
       "    <tr>\n",
       "      <th>48</th>\n",
       "      <td>5.3</td>\n",
       "      <td>3.7</td>\n",
       "      <td>1.5</td>\n",
       "      <td>0.2</td>\n",
       "      <td>setosa</td>\n",
       "    </tr>\n",
       "    <tr>\n",
       "      <th>49</th>\n",
       "      <td>5.0</td>\n",
       "      <td>3.3</td>\n",
       "      <td>1.4</td>\n",
       "      <td>0.2</td>\n",
       "      <td>setosa</td>\n",
       "    </tr>\n",
       "  </tbody>\n",
       "</table>\n",
       "</div>"
      ],
      "text/plain": [
       "    sepal_length  sepal_width  petal_length  petal_width species\n",
       "0            5.1          3.5           1.4          0.2  setosa\n",
       "1            4.9          3.0           1.4          0.2  setosa\n",
       "2            4.7          3.2           1.3          0.2  setosa\n",
       "3            4.6          3.1           1.5          0.2  setosa\n",
       "4            5.0          3.6           1.4          0.2  setosa\n",
       "5            5.4          3.9           1.7          0.4  setosa\n",
       "6            4.6          3.4           1.4          0.3  setosa\n",
       "7            5.0          3.4           1.5          0.2  setosa\n",
       "8            4.4          2.9           1.4          0.2  setosa\n",
       "9            4.9          3.1           1.5          0.1  setosa\n",
       "10           5.4          3.7           1.5          0.2  setosa\n",
       "11           4.8          3.4           1.6          0.2  setosa\n",
       "12           4.8          3.0           1.4          0.1  setosa\n",
       "13           4.3          3.0           1.1          0.1  setosa\n",
       "14           5.8          4.0           1.2          0.2  setosa\n",
       "15           5.7          4.4           1.5          0.4  setosa\n",
       "16           5.4          3.9           1.3          0.4  setosa\n",
       "17           5.1          3.5           1.4          0.3  setosa\n",
       "18           5.7          3.8           1.7          0.3  setosa\n",
       "19           5.1          3.8           1.5          0.3  setosa\n",
       "20           5.4          3.4           1.7          0.2  setosa\n",
       "21           5.1          3.7           1.5          0.4  setosa\n",
       "22           4.6          3.6           1.0          0.2  setosa\n",
       "23           5.1          3.3           1.7          0.5  setosa\n",
       "24           4.8          3.4           1.9          0.2  setosa\n",
       "25           5.0          3.0           1.6          0.2  setosa\n",
       "26           5.0          3.4           1.6          0.4  setosa\n",
       "27           5.2          3.5           1.5          0.2  setosa\n",
       "28           5.2          3.4           1.4          0.2  setosa\n",
       "29           4.7          3.2           1.6          0.2  setosa\n",
       "30           4.8          3.1           1.6          0.2  setosa\n",
       "31           5.4          3.4           1.5          0.4  setosa\n",
       "32           5.2          4.1           1.5          0.1  setosa\n",
       "33           5.5          4.2           1.4          0.2  setosa\n",
       "34           4.9          3.1           1.5          0.1  setosa\n",
       "35           5.0          3.2           1.2          0.2  setosa\n",
       "36           5.5          3.5           1.3          0.2  setosa\n",
       "37           4.9          3.1           1.5          0.1  setosa\n",
       "38           4.4          3.0           1.3          0.2  setosa\n",
       "39           5.1          3.4           1.5          0.2  setosa\n",
       "40           5.0          3.5           1.3          0.3  setosa\n",
       "41           4.5          2.3           1.3          0.3  setosa\n",
       "42           4.4          3.2           1.3          0.2  setosa\n",
       "43           5.0          3.5           1.6          0.6  setosa\n",
       "44           5.1          3.8           1.9          0.4  setosa\n",
       "45           4.8          3.0           1.4          0.3  setosa\n",
       "46           5.1          3.8           1.6          0.2  setosa\n",
       "47           4.6          3.2           1.4          0.2  setosa\n",
       "48           5.3          3.7           1.5          0.2  setosa\n",
       "49           5.0          3.3           1.4          0.2  setosa"
      ]
     },
     "execution_count": 7,
     "metadata": {},
     "output_type": "execute_result"
    }
   ],
   "source": [
    "# 2. Создайте таблицу df_setosa, содержащую только наблюдения для вида \"setosa\".\n",
    "\n",
    "df_setosa = iris[iris['species'] == 'setosa']\n",
    "df_setosa"
   ]
  },
  {
   "cell_type": "code",
   "execution_count": 8,
   "id": "ff51267d",
   "metadata": {
    "execution": {
     "iopub.execute_input": "2025-07-02T14:27:26.452691Z",
     "iopub.status.busy": "2025-07-02T14:27:26.451637Z",
     "iopub.status.idle": "2025-07-02T14:27:26.469462Z",
     "shell.execute_reply": "2025-07-02T14:27:26.468522Z"
    },
    "papermill": {
     "duration": 0.026688,
     "end_time": "2025-07-02T14:27:26.471193",
     "exception": false,
     "start_time": "2025-07-02T14:27:26.444505",
     "status": "completed"
    },
    "tags": []
   },
   "outputs": [
    {
     "data": {
      "text/html": [
       "<div>\n",
       "<style scoped>\n",
       "    .dataframe tbody tr th:only-of-type {\n",
       "        vertical-align: middle;\n",
       "    }\n",
       "\n",
       "    .dataframe tbody tr th {\n",
       "        vertical-align: top;\n",
       "    }\n",
       "\n",
       "    .dataframe thead th {\n",
       "        text-align: right;\n",
       "    }\n",
       "</style>\n",
       "<table border=\"1\" class=\"dataframe\">\n",
       "  <thead>\n",
       "    <tr style=\"text-align: right;\">\n",
       "      <th></th>\n",
       "      <th>sepal_length</th>\n",
       "      <th>sepal_width</th>\n",
       "      <th>petal_length</th>\n",
       "      <th>petal_width</th>\n",
       "      <th>species</th>\n",
       "    </tr>\n",
       "  </thead>\n",
       "  <tbody>\n",
       "    <tr>\n",
       "      <th>52</th>\n",
       "      <td>6.9</td>\n",
       "      <td>3.1</td>\n",
       "      <td>4.9</td>\n",
       "      <td>1.5</td>\n",
       "      <td>versicolor</td>\n",
       "    </tr>\n",
       "    <tr>\n",
       "      <th>53</th>\n",
       "      <td>5.5</td>\n",
       "      <td>2.3</td>\n",
       "      <td>4.0</td>\n",
       "      <td>1.3</td>\n",
       "      <td>versicolor</td>\n",
       "    </tr>\n",
       "    <tr>\n",
       "      <th>54</th>\n",
       "      <td>6.5</td>\n",
       "      <td>2.8</td>\n",
       "      <td>4.6</td>\n",
       "      <td>1.5</td>\n",
       "      <td>versicolor</td>\n",
       "    </tr>\n",
       "    <tr>\n",
       "      <th>55</th>\n",
       "      <td>5.7</td>\n",
       "      <td>2.8</td>\n",
       "      <td>4.5</td>\n",
       "      <td>1.3</td>\n",
       "      <td>versicolor</td>\n",
       "    </tr>\n",
       "    <tr>\n",
       "      <th>57</th>\n",
       "      <td>4.9</td>\n",
       "      <td>2.4</td>\n",
       "      <td>3.3</td>\n",
       "      <td>1.0</td>\n",
       "      <td>versicolor</td>\n",
       "    </tr>\n",
       "    <tr>\n",
       "      <th>...</th>\n",
       "      <td>...</td>\n",
       "      <td>...</td>\n",
       "      <td>...</td>\n",
       "      <td>...</td>\n",
       "      <td>...</td>\n",
       "    </tr>\n",
       "    <tr>\n",
       "      <th>142</th>\n",
       "      <td>5.8</td>\n",
       "      <td>2.7</td>\n",
       "      <td>5.1</td>\n",
       "      <td>1.9</td>\n",
       "      <td>virginica</td>\n",
       "    </tr>\n",
       "    <tr>\n",
       "      <th>145</th>\n",
       "      <td>6.7</td>\n",
       "      <td>3.0</td>\n",
       "      <td>5.2</td>\n",
       "      <td>2.3</td>\n",
       "      <td>virginica</td>\n",
       "    </tr>\n",
       "    <tr>\n",
       "      <th>146</th>\n",
       "      <td>6.3</td>\n",
       "      <td>2.5</td>\n",
       "      <td>5.0</td>\n",
       "      <td>1.9</td>\n",
       "      <td>virginica</td>\n",
       "    </tr>\n",
       "    <tr>\n",
       "      <th>147</th>\n",
       "      <td>6.5</td>\n",
       "      <td>3.0</td>\n",
       "      <td>5.2</td>\n",
       "      <td>2.0</td>\n",
       "      <td>virginica</td>\n",
       "    </tr>\n",
       "    <tr>\n",
       "      <th>149</th>\n",
       "      <td>5.9</td>\n",
       "      <td>3.0</td>\n",
       "      <td>5.1</td>\n",
       "      <td>1.8</td>\n",
       "      <td>virginica</td>\n",
       "    </tr>\n",
       "  </tbody>\n",
       "</table>\n",
       "<p>81 rows × 5 columns</p>\n",
       "</div>"
      ],
      "text/plain": [
       "     sepal_length  sepal_width  petal_length  petal_width     species\n",
       "52            6.9          3.1           4.9          1.5  versicolor\n",
       "53            5.5          2.3           4.0          1.3  versicolor\n",
       "54            6.5          2.8           4.6          1.5  versicolor\n",
       "55            5.7          2.8           4.5          1.3  versicolor\n",
       "57            4.9          2.4           3.3          1.0  versicolor\n",
       "..            ...          ...           ...          ...         ...\n",
       "142           5.8          2.7           5.1          1.9   virginica\n",
       "145           6.7          3.0           5.2          2.3   virginica\n",
       "146           6.3          2.5           5.0          1.9   virginica\n",
       "147           6.5          3.0           5.2          2.0   virginica\n",
       "149           5.9          3.0           5.1          1.8   virginica\n",
       "\n",
       "[81 rows x 5 columns]"
      ]
     },
     "execution_count": 8,
     "metadata": {},
     "output_type": "execute_result"
    }
   ],
   "source": [
    "# 3. Создайте таблицу df_filtered, содержащую только те строки, где одновременно выполняются условия:\n",
    "#    petal_length > 3.0\n",
    "#    sepal_width < 3.2\n",
    "\n",
    "df_filtered = iris.query(\"petal_length > 3.0 and sepal_width < 3.2\")\n",
    "df_filtered"
   ]
  },
  {
   "cell_type": "code",
   "execution_count": 9,
   "id": "a11afe85",
   "metadata": {
    "execution": {
     "iopub.execute_input": "2025-07-02T14:27:26.486227Z",
     "iopub.status.busy": "2025-07-02T14:27:26.485925Z",
     "iopub.status.idle": "2025-07-02T14:27:26.917001Z",
     "shell.execute_reply": "2025-07-02T14:27:26.916120Z"
    },
    "papermill": {
     "duration": 0.440997,
     "end_time": "2025-07-02T14:27:26.918842",
     "exception": false,
     "start_time": "2025-07-02T14:27:26.477845",
     "status": "completed"
    },
    "tags": []
   },
   "outputs": [
    {
     "data": {
      "text/plain": [
       "<Axes: title={'center': 'Распределения признака petal_width'}, xlabel='petal_width', ylabel='Количество'>"
      ]
     },
     "execution_count": 9,
     "metadata": {},
     "output_type": "execute_result"
    },
    {
     "data": {
      "image/png": "[encoded data removed]",
      "text/plain": [
       "<Figure size 640x480 with 1 Axes>"
      ]
     },
     "metadata": {},
     "output_type": "display_data"
    }
   ],
   "source": [
    "# 4. Постройте гистограмму распределения признака petal_width на основе таблицы df_filtered. \n",
    "# Укажите оси, добавьте заголовок и сетку.\n",
    "df_filtered['petal_width'].plot.hist(\n",
    "    bins=50, \n",
    "    xlim=(0,3),\n",
    "    grid=True,\n",
    "    title='Распределения признака petal_width',\n",
    "    xlabel='petal_width', \n",
    "    ylabel='Количество')"
   ]
  },
  {
   "cell_type": "markdown",
   "id": "f02ee61e",
   "metadata": {
    "id": "hdxEj63IAubC",
    "papermill": {
     "duration": 0.006702,
     "end_time": "2025-07-02T14:27:26.932681",
     "exception": false,
     "start_time": "2025-07-02T14:27:26.925979",
     "status": "completed"
    },
    "tags": []
   },
   "source": [
    "Задание 2. Группировка и вычисление агрегированных характеристик\n",
    "1.\tДля каждой группы по столбцу species рассчитайте следующие агрегаты по всем числовым признакам:\n",
    "\t*\tсреднее значение;\n",
    "\t*\tмедиану;\n",
    "\t*\tстандартное отклонение.\n",
    "2.\tДобавьте в таблицу df новый столбец sepal_area, определяемый как произведение sepal_length * sepal_width.\n",
    "3.\tДля каждого вида (species) найдите максимальное значение sepal_area и выведите в отсортированном порядке по убыванию.\n",
    "4.\tОпределите, для какого вида медианное значение sepal_area является наибольшим (используйте .groupby и .median())."
   ]
  },
  {
   "cell_type": "code",
   "execution_count": 10,
   "id": "e5aa3173",
   "metadata": {
    "execution": {
     "iopub.execute_input": "2025-07-02T14:27:26.947777Z",
     "iopub.status.busy": "2025-07-02T14:27:26.947467Z",
     "iopub.status.idle": "2025-07-02T14:27:26.981924Z",
     "shell.execute_reply": "2025-07-02T14:27:26.980756Z"
    },
    "papermill": {
     "duration": 0.044182,
     "end_time": "2025-07-02T14:27:26.983733",
     "exception": false,
     "start_time": "2025-07-02T14:27:26.939551",
     "status": "completed"
    },
    "tags": []
   },
   "outputs": [
    {
     "data": {
      "text/html": [
       "<div>\n",
       "<style scoped>\n",
       "    .dataframe tbody tr th:only-of-type {\n",
       "        vertical-align: middle;\n",
       "    }\n",
       "\n",
       "    .dataframe tbody tr th {\n",
       "        vertical-align: top;\n",
       "    }\n",
       "\n",
       "    .dataframe thead tr th {\n",
       "        text-align: left;\n",
       "    }\n",
       "\n",
       "    .dataframe thead tr:last-of-type th {\n",
       "        text-align: right;\n",
       "    }\n",
       "</style>\n",
       "<table border=\"1\" class=\"dataframe\">\n",
       "  <thead>\n",
       "    <tr>\n",
       "      <th></th>\n",
       "      <th colspan=\"3\" halign=\"left\">sepal_length</th>\n",
       "      <th colspan=\"3\" halign=\"left\">sepal_width</th>\n",
       "      <th colspan=\"3\" halign=\"left\">petal_length</th>\n",
       "      <th colspan=\"3\" halign=\"left\">petal_width</th>\n",
       "    </tr>\n",
       "    <tr>\n",
       "      <th></th>\n",
       "      <th>mean</th>\n",
       "      <th>median</th>\n",
       "      <th>std</th>\n",
       "      <th>mean</th>\n",
       "      <th>median</th>\n",
       "      <th>std</th>\n",
       "      <th>mean</th>\n",
       "      <th>median</th>\n",
       "      <th>std</th>\n",
       "      <th>mean</th>\n",
       "      <th>median</th>\n",
       "      <th>std</th>\n",
       "    </tr>\n",
       "    <tr>\n",
       "      <th>species</th>\n",
       "      <th></th>\n",
       "      <th></th>\n",
       "      <th></th>\n",
       "      <th></th>\n",
       "      <th></th>\n",
       "      <th></th>\n",
       "      <th></th>\n",
       "      <th></th>\n",
       "      <th></th>\n",
       "      <th></th>\n",
       "      <th></th>\n",
       "      <th></th>\n",
       "    </tr>\n",
       "  </thead>\n",
       "  <tbody>\n",
       "    <tr>\n",
       "      <th>setosa</th>\n",
       "      <td>5.006</td>\n",
       "      <td>5.0</td>\n",
       "      <td>0.352490</td>\n",
       "      <td>3.418</td>\n",
       "      <td>3.4</td>\n",
       "      <td>0.381024</td>\n",
       "      <td>1.464</td>\n",
       "      <td>1.50</td>\n",
       "      <td>0.173511</td>\n",
       "      <td>0.244</td>\n",
       "      <td>0.2</td>\n",
       "      <td>0.107210</td>\n",
       "    </tr>\n",
       "    <tr>\n",
       "      <th>versicolor</th>\n",
       "      <td>5.936</td>\n",
       "      <td>5.9</td>\n",
       "      <td>0.516171</td>\n",
       "      <td>2.770</td>\n",
       "      <td>2.8</td>\n",
       "      <td>0.313798</td>\n",
       "      <td>4.260</td>\n",
       "      <td>4.35</td>\n",
       "      <td>0.469911</td>\n",
       "      <td>1.326</td>\n",
       "      <td>1.3</td>\n",
       "      <td>0.197753</td>\n",
       "    </tr>\n",
       "    <tr>\n",
       "      <th>virginica</th>\n",
       "      <td>6.588</td>\n",
       "      <td>6.5</td>\n",
       "      <td>0.635880</td>\n",
       "      <td>2.974</td>\n",
       "      <td>3.0</td>\n",
       "      <td>0.322497</td>\n",
       "      <td>5.552</td>\n",
       "      <td>5.55</td>\n",
       "      <td>0.551895</td>\n",
       "      <td>2.026</td>\n",
       "      <td>2.0</td>\n",
       "      <td>0.274650</td>\n",
       "    </tr>\n",
       "  </tbody>\n",
       "</table>\n",
       "</div>"
      ],
      "text/plain": [
       "           sepal_length                  sepal_width                   \\\n",
       "                   mean median       std        mean median       std   \n",
       "species                                                                 \n",
       "setosa            5.006    5.0  0.352490       3.418    3.4  0.381024   \n",
       "versicolor        5.936    5.9  0.516171       2.770    2.8  0.313798   \n",
       "virginica         6.588    6.5  0.635880       2.974    3.0  0.322497   \n",
       "\n",
       "           petal_length                  petal_width                   \n",
       "                   mean median       std        mean median       std  \n",
       "species                                                                \n",
       "setosa            1.464   1.50  0.173511       0.244    0.2  0.107210  \n",
       "versicolor        4.260   4.35  0.469911       1.326    1.3  0.197753  \n",
       "virginica         5.552   5.55  0.551895       2.026    2.0  0.274650  "
      ]
     },
     "execution_count": 10,
     "metadata": {},
     "output_type": "execute_result"
    }
   ],
   "source": [
    "# 1. Для каждой группы по столбцу species рассчитайте следующие агрегаты по всем числовым признакам: \n",
    "# * среднее значение; * медиану; * стандартное отклонение.\n",
    "iris.groupby('species').agg([\"mean\", \"median\", \"std\"])"
   ]
  },
  {
   "cell_type": "code",
   "execution_count": 11,
   "id": "a95d0f71",
   "metadata": {
    "execution": {
     "iopub.execute_input": "2025-07-02T14:27:27.000246Z",
     "iopub.status.busy": "2025-07-02T14:27:26.999416Z",
     "iopub.status.idle": "2025-07-02T14:27:27.017496Z",
     "shell.execute_reply": "2025-07-02T14:27:27.016651Z"
    },
    "papermill": {
     "duration": 0.027932,
     "end_time": "2025-07-02T14:27:27.019126",
     "exception": false,
     "start_time": "2025-07-02T14:27:26.991194",
     "status": "completed"
    },
    "tags": []
   },
   "outputs": [
    {
     "data": {
      "text/html": [
       "<div>\n",
       "<style scoped>\n",
       "    .dataframe tbody tr th:only-of-type {\n",
       "        vertical-align: middle;\n",
       "    }\n",
       "\n",
       "    .dataframe tbody tr th {\n",
       "        vertical-align: top;\n",
       "    }\n",
       "\n",
       "    .dataframe thead th {\n",
       "        text-align: right;\n",
       "    }\n",
       "</style>\n",
       "<table border=\"1\" class=\"dataframe\">\n",
       "  <thead>\n",
       "    <tr style=\"text-align: right;\">\n",
       "      <th></th>\n",
       "      <th>sepal_length</th>\n",
       "      <th>sepal_width</th>\n",
       "      <th>petal_length</th>\n",
       "      <th>petal_width</th>\n",
       "      <th>species</th>\n",
       "      <th>sepal_area</th>\n",
       "    </tr>\n",
       "  </thead>\n",
       "  <tbody>\n",
       "    <tr>\n",
       "      <th>0</th>\n",
       "      <td>5.1</td>\n",
       "      <td>3.5</td>\n",
       "      <td>1.4</td>\n",
       "      <td>0.2</td>\n",
       "      <td>setosa</td>\n",
       "      <td>17.85</td>\n",
       "    </tr>\n",
       "    <tr>\n",
       "      <th>1</th>\n",
       "      <td>4.9</td>\n",
       "      <td>3.0</td>\n",
       "      <td>1.4</td>\n",
       "      <td>0.2</td>\n",
       "      <td>setosa</td>\n",
       "      <td>14.70</td>\n",
       "    </tr>\n",
       "    <tr>\n",
       "      <th>2</th>\n",
       "      <td>4.7</td>\n",
       "      <td>3.2</td>\n",
       "      <td>1.3</td>\n",
       "      <td>0.2</td>\n",
       "      <td>setosa</td>\n",
       "      <td>15.04</td>\n",
       "    </tr>\n",
       "    <tr>\n",
       "      <th>3</th>\n",
       "      <td>4.6</td>\n",
       "      <td>3.1</td>\n",
       "      <td>1.5</td>\n",
       "      <td>0.2</td>\n",
       "      <td>setosa</td>\n",
       "      <td>14.26</td>\n",
       "    </tr>\n",
       "    <tr>\n",
       "      <th>4</th>\n",
       "      <td>5.0</td>\n",
       "      <td>3.6</td>\n",
       "      <td>1.4</td>\n",
       "      <td>0.2</td>\n",
       "      <td>setosa</td>\n",
       "      <td>18.00</td>\n",
       "    </tr>\n",
       "    <tr>\n",
       "      <th>...</th>\n",
       "      <td>...</td>\n",
       "      <td>...</td>\n",
       "      <td>...</td>\n",
       "      <td>...</td>\n",
       "      <td>...</td>\n",
       "      <td>...</td>\n",
       "    </tr>\n",
       "    <tr>\n",
       "      <th>145</th>\n",
       "      <td>6.7</td>\n",
       "      <td>3.0</td>\n",
       "      <td>5.2</td>\n",
       "      <td>2.3</td>\n",
       "      <td>virginica</td>\n",
       "      <td>20.10</td>\n",
       "    </tr>\n",
       "    <tr>\n",
       "      <th>146</th>\n",
       "      <td>6.3</td>\n",
       "      <td>2.5</td>\n",
       "      <td>5.0</td>\n",
       "      <td>1.9</td>\n",
       "      <td>virginica</td>\n",
       "      <td>15.75</td>\n",
       "    </tr>\n",
       "    <tr>\n",
       "      <th>147</th>\n",
       "      <td>6.5</td>\n",
       "      <td>3.0</td>\n",
       "      <td>5.2</td>\n",
       "      <td>2.0</td>\n",
       "      <td>virginica</td>\n",
       "      <td>19.50</td>\n",
       "    </tr>\n",
       "    <tr>\n",
       "      <th>148</th>\n",
       "      <td>6.2</td>\n",
       "      <td>3.4</td>\n",
       "      <td>5.4</td>\n",
       "      <td>2.3</td>\n",
       "      <td>virginica</td>\n",
       "      <td>21.08</td>\n",
       "    </tr>\n",
       "    <tr>\n",
       "      <th>149</th>\n",
       "      <td>5.9</td>\n",
       "      <td>3.0</td>\n",
       "      <td>5.1</td>\n",
       "      <td>1.8</td>\n",
       "      <td>virginica</td>\n",
       "      <td>17.70</td>\n",
       "    </tr>\n",
       "  </tbody>\n",
       "</table>\n",
       "<p>150 rows × 6 columns</p>\n",
       "</div>"
      ],
      "text/plain": [
       "     sepal_length  sepal_width  petal_length  petal_width    species  \\\n",
       "0             5.1          3.5           1.4          0.2     setosa   \n",
       "1             4.9          3.0           1.4          0.2     setosa   \n",
       "2             4.7          3.2           1.3          0.2     setosa   \n",
       "3             4.6          3.1           1.5          0.2     setosa   \n",
       "4             5.0          3.6           1.4          0.2     setosa   \n",
       "..            ...          ...           ...          ...        ...   \n",
       "145           6.7          3.0           5.2          2.3  virginica   \n",
       "146           6.3          2.5           5.0          1.9  virginica   \n",
       "147           6.5          3.0           5.2          2.0  virginica   \n",
       "148           6.2          3.4           5.4          2.3  virginica   \n",
       "149           5.9          3.0           5.1          1.8  virginica   \n",
       "\n",
       "     sepal_area  \n",
       "0         17.85  \n",
       "1         14.70  \n",
       "2         15.04  \n",
       "3         14.26  \n",
       "4         18.00  \n",
       "..          ...  \n",
       "145       20.10  \n",
       "146       15.75  \n",
       "147       19.50  \n",
       "148       21.08  \n",
       "149       17.70  \n",
       "\n",
       "[150 rows x 6 columns]"
      ]
     },
     "execution_count": 11,
     "metadata": {},
     "output_type": "execute_result"
    }
   ],
   "source": [
    "# 2. Добавьте в таблицу df новый столбец sepal_area, определяемый как произведение sepal_length * sepal_width.\n",
    "iris['sepal_area'] = iris['sepal_length'] * iris['sepal_width']\n",
    "iris"
   ]
  },
  {
   "cell_type": "code",
   "execution_count": 12,
   "id": "f6e1db17",
   "metadata": {
    "execution": {
     "iopub.execute_input": "2025-07-02T14:27:27.036026Z",
     "iopub.status.busy": "2025-07-02T14:27:27.035750Z",
     "iopub.status.idle": "2025-07-02T14:27:27.044881Z",
     "shell.execute_reply": "2025-07-02T14:27:27.044085Z"
    },
    "papermill": {
     "duration": 0.019697,
     "end_time": "2025-07-02T14:27:27.046531",
     "exception": false,
     "start_time": "2025-07-02T14:27:27.026834",
     "status": "completed"
    },
    "tags": []
   },
   "outputs": [
    {
     "data": {
      "text/plain": [
       "species\n",
       "virginica     30.02\n",
       "setosa        25.08\n",
       "versicolor    22.40\n",
       "Name: sepal_area, dtype: float64"
      ]
     },
     "execution_count": 12,
     "metadata": {},
     "output_type": "execute_result"
    }
   ],
   "source": [
    "# 3. Для каждого вида (species) найдите максимальное значение sepal_area и выведите в отсортированном порядке по убыванию.\n",
    "# df.groupby(\"name\")[\"age\"].mean()\n",
    "iris.groupby('species')['sepal_area'].max().sort_values(ascending=False)"
   ]
  },
  {
   "cell_type": "code",
   "execution_count": 13,
   "id": "162a8593",
   "metadata": {
    "execution": {
     "iopub.execute_input": "2025-07-02T14:27:27.063481Z",
     "iopub.status.busy": "2025-07-02T14:27:27.063120Z",
     "iopub.status.idle": "2025-07-02T14:27:27.072525Z",
     "shell.execute_reply": "2025-07-02T14:27:27.071502Z"
    },
    "papermill": {
     "duration": 0.019999,
     "end_time": "2025-07-02T14:27:27.074184",
     "exception": false,
     "start_time": "2025-07-02T14:27:27.054185",
     "status": "completed"
    },
    "tags": []
   },
   "outputs": [
    {
     "data": {
      "text/plain": [
       "species\n",
       "virginica     20.060\n",
       "setosa        17.000\n",
       "versicolor    16.385\n",
       "Name: sepal_area, dtype: float64"
      ]
     },
     "execution_count": 13,
     "metadata": {},
     "output_type": "execute_result"
    }
   ],
   "source": [
    "# 4. Определите, для какого вида медианное значение sepal_area является наибольшим (используйте .groupby и .median()).\n",
    "iris.groupby('species')['sepal_area'].median().sort_values(ascending=False)"
   ]
  },
  {
   "cell_type": "markdown",
   "id": "aa053508",
   "metadata": {
    "id": "7hfrupf9A5_Y",
    "papermill": {
     "duration": 0.007459,
     "end_time": "2025-07-02T14:27:27.089473",
     "exception": false,
     "start_time": "2025-07-02T14:27:27.082014",
     "status": "completed"
    },
    "tags": []
   },
   "source": [
    "Задание 3. Визуализация агрегированных данных и сравнение видов\n",
    "\n",
    "1.\tПостройте столбчатую диаграмму (barplot), отображающую среднее значение признака petal_length для каждого значения species. Укажите подписи осей, заголовок, стилизуйте палитру.\n",
    "2.\tПостройте ящик с усами (boxplot) для признака sepal_width, разделённый по видам (species). Все виды должны отображаться на одном графике.\n",
    "3.\tПостройте столбчатую диаграмму частот (countplot) количества наблюдений для каждого вида (species).\n",
    "4.\tНа основе построенных графиков сделайте краткое текстовое заключение: какой из признаков (petal_length, sepal_width) имеет наибольшую межклассовую разницу."
   ]
  },
  {
   "cell_type": "code",
   "execution_count": 14,
   "id": "fa9482af",
   "metadata": {
    "execution": {
     "iopub.execute_input": "2025-07-02T14:27:27.106153Z",
     "iopub.status.busy": "2025-07-02T14:27:27.105847Z",
     "iopub.status.idle": "2025-07-02T14:27:27.110534Z",
     "shell.execute_reply": "2025-07-02T14:27:27.109334Z"
    },
    "papermill": {
     "duration": 0.014953,
     "end_time": "2025-07-02T14:27:27.112233",
     "exception": false,
     "start_time": "2025-07-02T14:27:27.097280",
     "status": "completed"
    },
    "tags": []
   },
   "outputs": [],
   "source": [
    "# 1. Постройте столбчатую диаграмму (barplot), отображающую среднее значение признака petal_length для каждого значения species. \n",
    "# Укажите подписи осей, заголовок, стилизуйте палитру.\n",
    "# barplot() — средние значения с доверительным интервалом\n",
    "#sns.barplot(data=df, x='day', y='total_bill', hue='sex', estimator='mean')"
   ]
  },
  {
   "cell_type": "code",
   "execution_count": 15,
   "id": "b26adf16",
   "metadata": {
    "execution": {
     "iopub.execute_input": "2025-07-02T14:27:27.129719Z",
     "iopub.status.busy": "2025-07-02T14:27:27.129169Z",
     "iopub.status.idle": "2025-07-02T14:27:27.133711Z",
     "shell.execute_reply": "2025-07-02T14:27:27.132872Z"
    },
    "papermill": {
     "duration": 0.014791,
     "end_time": "2025-07-02T14:27:27.135330",
     "exception": false,
     "start_time": "2025-07-02T14:27:27.120539",
     "status": "completed"
    },
    "tags": []
   },
   "outputs": [],
   "source": [
    "# 2. Постройте ящик с усами (boxplot) для признака sepal_width, разделённый по видам (species). \n",
    "# Все виды должны отображаться на одном графике.\n"
   ]
  },
  {
   "cell_type": "markdown",
   "id": "23fb14f2",
   "metadata": {
    "id": "nagzRD4hBF-C",
    "papermill": {
     "duration": 0.007392,
     "end_time": "2025-07-02T14:27:27.150492",
     "exception": false,
     "start_time": "2025-07-02T14:27:27.143100",
     "status": "completed"
    },
    "tags": []
   },
   "source": [
    "Задание 4. Условные выборки, создание новых признаков и фильтрация по сложным условиям\n",
    "\n",
    "1.\tДобавьте в таблицу df новый признак petal_ratio, равный отношению petal_length / petal_width. Убедитесь в отсутствии деления на ноль.\n",
    "2.\tНайдите 5 наблюдений с наибольшим значением petal_ratio. Выведите все столбцы для этих строк.\n",
    "3.\tПодсчитайте количество строк в таблице df, одновременно удовлетворяющих условиям:\n",
    "\t*\tpetal_ratio > 4.0;\n",
    "\t*\tsepal_length < 5.5.\n",
    "4.\tПостройте гистограмму распределения признака petal_ratio, используя параметр hue=\"species\" для разделения по видам."
   ]
  },
  {
   "cell_type": "code",
   "execution_count": 16,
   "id": "88a48b7f",
   "metadata": {
    "execution": {
     "iopub.execute_input": "2025-07-02T14:27:27.167052Z",
     "iopub.status.busy": "2025-07-02T14:27:27.166733Z",
     "iopub.status.idle": "2025-07-02T14:27:27.182805Z",
     "shell.execute_reply": "2025-07-02T14:27:27.181802Z"
    },
    "papermill": {
     "duration": 0.026212,
     "end_time": "2025-07-02T14:27:27.184339",
     "exception": false,
     "start_time": "2025-07-02T14:27:27.158127",
     "status": "completed"
    },
    "tags": []
   },
   "outputs": [
    {
     "data": {
      "text/html": [
       "<div>\n",
       "<style scoped>\n",
       "    .dataframe tbody tr th:only-of-type {\n",
       "        vertical-align: middle;\n",
       "    }\n",
       "\n",
       "    .dataframe tbody tr th {\n",
       "        vertical-align: top;\n",
       "    }\n",
       "\n",
       "    .dataframe thead th {\n",
       "        text-align: right;\n",
       "    }\n",
       "</style>\n",
       "<table border=\"1\" class=\"dataframe\">\n",
       "  <thead>\n",
       "    <tr style=\"text-align: right;\">\n",
       "      <th></th>\n",
       "      <th>sepal_length</th>\n",
       "      <th>sepal_width</th>\n",
       "      <th>petal_length</th>\n",
       "      <th>petal_width</th>\n",
       "      <th>species</th>\n",
       "      <th>sepal_area</th>\n",
       "      <th>petal_ratio</th>\n",
       "    </tr>\n",
       "  </thead>\n",
       "  <tbody>\n",
       "    <tr>\n",
       "      <th>0</th>\n",
       "      <td>5.1</td>\n",
       "      <td>3.5</td>\n",
       "      <td>1.4</td>\n",
       "      <td>0.2</td>\n",
       "      <td>setosa</td>\n",
       "      <td>17.85</td>\n",
       "      <td>7.000000</td>\n",
       "    </tr>\n",
       "    <tr>\n",
       "      <th>1</th>\n",
       "      <td>4.9</td>\n",
       "      <td>3.0</td>\n",
       "      <td>1.4</td>\n",
       "      <td>0.2</td>\n",
       "      <td>setosa</td>\n",
       "      <td>14.70</td>\n",
       "      <td>7.000000</td>\n",
       "    </tr>\n",
       "    <tr>\n",
       "      <th>2</th>\n",
       "      <td>4.7</td>\n",
       "      <td>3.2</td>\n",
       "      <td>1.3</td>\n",
       "      <td>0.2</td>\n",
       "      <td>setosa</td>\n",
       "      <td>15.04</td>\n",
       "      <td>6.500000</td>\n",
       "    </tr>\n",
       "    <tr>\n",
       "      <th>3</th>\n",
       "      <td>4.6</td>\n",
       "      <td>3.1</td>\n",
       "      <td>1.5</td>\n",
       "      <td>0.2</td>\n",
       "      <td>setosa</td>\n",
       "      <td>14.26</td>\n",
       "      <td>7.500000</td>\n",
       "    </tr>\n",
       "    <tr>\n",
       "      <th>4</th>\n",
       "      <td>5.0</td>\n",
       "      <td>3.6</td>\n",
       "      <td>1.4</td>\n",
       "      <td>0.2</td>\n",
       "      <td>setosa</td>\n",
       "      <td>18.00</td>\n",
       "      <td>7.000000</td>\n",
       "    </tr>\n",
       "    <tr>\n",
       "      <th>...</th>\n",
       "      <td>...</td>\n",
       "      <td>...</td>\n",
       "      <td>...</td>\n",
       "      <td>...</td>\n",
       "      <td>...</td>\n",
       "      <td>...</td>\n",
       "      <td>...</td>\n",
       "    </tr>\n",
       "    <tr>\n",
       "      <th>145</th>\n",
       "      <td>6.7</td>\n",
       "      <td>3.0</td>\n",
       "      <td>5.2</td>\n",
       "      <td>2.3</td>\n",
       "      <td>virginica</td>\n",
       "      <td>20.10</td>\n",
       "      <td>2.260870</td>\n",
       "    </tr>\n",
       "    <tr>\n",
       "      <th>146</th>\n",
       "      <td>6.3</td>\n",
       "      <td>2.5</td>\n",
       "      <td>5.0</td>\n",
       "      <td>1.9</td>\n",
       "      <td>virginica</td>\n",
       "      <td>15.75</td>\n",
       "      <td>2.631579</td>\n",
       "    </tr>\n",
       "    <tr>\n",
       "      <th>147</th>\n",
       "      <td>6.5</td>\n",
       "      <td>3.0</td>\n",
       "      <td>5.2</td>\n",
       "      <td>2.0</td>\n",
       "      <td>virginica</td>\n",
       "      <td>19.50</td>\n",
       "      <td>2.600000</td>\n",
       "    </tr>\n",
       "    <tr>\n",
       "      <th>148</th>\n",
       "      <td>6.2</td>\n",
       "      <td>3.4</td>\n",
       "      <td>5.4</td>\n",
       "      <td>2.3</td>\n",
       "      <td>virginica</td>\n",
       "      <td>21.08</td>\n",
       "      <td>2.347826</td>\n",
       "    </tr>\n",
       "    <tr>\n",
       "      <th>149</th>\n",
       "      <td>5.9</td>\n",
       "      <td>3.0</td>\n",
       "      <td>5.1</td>\n",
       "      <td>1.8</td>\n",
       "      <td>virginica</td>\n",
       "      <td>17.70</td>\n",
       "      <td>2.833333</td>\n",
       "    </tr>\n",
       "  </tbody>\n",
       "</table>\n",
       "<p>150 rows × 7 columns</p>\n",
       "</div>"
      ],
      "text/plain": [
       "     sepal_length  sepal_width  petal_length  petal_width    species  \\\n",
       "0             5.1          3.5           1.4          0.2     setosa   \n",
       "1             4.9          3.0           1.4          0.2     setosa   \n",
       "2             4.7          3.2           1.3          0.2     setosa   \n",
       "3             4.6          3.1           1.5          0.2     setosa   \n",
       "4             5.0          3.6           1.4          0.2     setosa   \n",
       "..            ...          ...           ...          ...        ...   \n",
       "145           6.7          3.0           5.2          2.3  virginica   \n",
       "146           6.3          2.5           5.0          1.9  virginica   \n",
       "147           6.5          3.0           5.2          2.0  virginica   \n",
       "148           6.2          3.4           5.4          2.3  virginica   \n",
       "149           5.9          3.0           5.1          1.8  virginica   \n",
       "\n",
       "     sepal_area  petal_ratio  \n",
       "0         17.85     7.000000  \n",
       "1         14.70     7.000000  \n",
       "2         15.04     6.500000  \n",
       "3         14.26     7.500000  \n",
       "4         18.00     7.000000  \n",
       "..          ...          ...  \n",
       "145       20.10     2.260870  \n",
       "146       15.75     2.631579  \n",
       "147       19.50     2.600000  \n",
       "148       21.08     2.347826  \n",
       "149       17.70     2.833333  \n",
       "\n",
       "[150 rows x 7 columns]"
      ]
     },
     "execution_count": 16,
     "metadata": {},
     "output_type": "execute_result"
    }
   ],
   "source": [
    "# 1. Добавьте в таблицу df новый признак petal_ratio, равный отношению petal_length / petal_width. \n",
    "# Убедитесь в отсутствии деления на ноль.\n",
    "if iris['petal_width'].min():\n",
    "    iris['petal_ratio'] = iris['petal_length'] / iris['petal_width']\n",
    "iris\n"
   ]
  },
  {
   "cell_type": "code",
   "execution_count": 17,
   "id": "c2d9ab07",
   "metadata": {
    "execution": {
     "iopub.execute_input": "2025-07-02T14:27:27.203114Z",
     "iopub.status.busy": "2025-07-02T14:27:27.202809Z",
     "iopub.status.idle": "2025-07-02T14:27:27.216883Z",
     "shell.execute_reply": "2025-07-02T14:27:27.215904Z"
    },
    "papermill": {
     "duration": 0.025876,
     "end_time": "2025-07-02T14:27:27.218808",
     "exception": false,
     "start_time": "2025-07-02T14:27:27.192932",
     "status": "completed"
    },
    "tags": []
   },
   "outputs": [
    {
     "data": {
      "text/html": [
       "<div>\n",
       "<style scoped>\n",
       "    .dataframe tbody tr th:only-of-type {\n",
       "        vertical-align: middle;\n",
       "    }\n",
       "\n",
       "    .dataframe tbody tr th {\n",
       "        vertical-align: top;\n",
       "    }\n",
       "\n",
       "    .dataframe thead th {\n",
       "        text-align: right;\n",
       "    }\n",
       "</style>\n",
       "<table border=\"1\" class=\"dataframe\">\n",
       "  <thead>\n",
       "    <tr style=\"text-align: right;\">\n",
       "      <th></th>\n",
       "      <th>sepal_length</th>\n",
       "      <th>sepal_width</th>\n",
       "      <th>petal_length</th>\n",
       "      <th>petal_width</th>\n",
       "      <th>species</th>\n",
       "      <th>sepal_area</th>\n",
       "      <th>petal_ratio</th>\n",
       "    </tr>\n",
       "  </thead>\n",
       "  <tbody>\n",
       "    <tr>\n",
       "      <th>37</th>\n",
       "      <td>4.9</td>\n",
       "      <td>3.1</td>\n",
       "      <td>1.5</td>\n",
       "      <td>0.1</td>\n",
       "      <td>setosa</td>\n",
       "      <td>15.19</td>\n",
       "      <td>15.0</td>\n",
       "    </tr>\n",
       "    <tr>\n",
       "      <th>32</th>\n",
       "      <td>5.2</td>\n",
       "      <td>4.1</td>\n",
       "      <td>1.5</td>\n",
       "      <td>0.1</td>\n",
       "      <td>setosa</td>\n",
       "      <td>21.32</td>\n",
       "      <td>15.0</td>\n",
       "    </tr>\n",
       "    <tr>\n",
       "      <th>9</th>\n",
       "      <td>4.9</td>\n",
       "      <td>3.1</td>\n",
       "      <td>1.5</td>\n",
       "      <td>0.1</td>\n",
       "      <td>setosa</td>\n",
       "      <td>15.19</td>\n",
       "      <td>15.0</td>\n",
       "    </tr>\n",
       "    <tr>\n",
       "      <th>34</th>\n",
       "      <td>4.9</td>\n",
       "      <td>3.1</td>\n",
       "      <td>1.5</td>\n",
       "      <td>0.1</td>\n",
       "      <td>setosa</td>\n",
       "      <td>15.19</td>\n",
       "      <td>15.0</td>\n",
       "    </tr>\n",
       "    <tr>\n",
       "      <th>12</th>\n",
       "      <td>4.8</td>\n",
       "      <td>3.0</td>\n",
       "      <td>1.4</td>\n",
       "      <td>0.1</td>\n",
       "      <td>setosa</td>\n",
       "      <td>14.40</td>\n",
       "      <td>14.0</td>\n",
       "    </tr>\n",
       "  </tbody>\n",
       "</table>\n",
       "</div>"
      ],
      "text/plain": [
       "    sepal_length  sepal_width  petal_length  petal_width species  sepal_area  \\\n",
       "37           4.9          3.1           1.5          0.1  setosa       15.19   \n",
       "32           5.2          4.1           1.5          0.1  setosa       21.32   \n",
       "9            4.9          3.1           1.5          0.1  setosa       15.19   \n",
       "34           4.9          3.1           1.5          0.1  setosa       15.19   \n",
       "12           4.8          3.0           1.4          0.1  setosa       14.40   \n",
       "\n",
       "    petal_ratio  \n",
       "37         15.0  \n",
       "32         15.0  \n",
       "9          15.0  \n",
       "34         15.0  \n",
       "12         14.0  "
      ]
     },
     "execution_count": 17,
     "metadata": {},
     "output_type": "execute_result"
    }
   ],
   "source": [
    "# 2. Найдите 5 наблюдений с наибольшим значением petal_ratio. Выведите все столбцы для этих строк.\n",
    "iris.sort_values(by='petal_ratio', ascending=False).head(5)"
   ]
  },
  {
   "cell_type": "code",
   "execution_count": 18,
   "id": "e2282d4c",
   "metadata": {
    "execution": {
     "iopub.execute_input": "2025-07-02T14:27:27.236567Z",
     "iopub.status.busy": "2025-07-02T14:27:27.236203Z",
     "iopub.status.idle": "2025-07-02T14:27:27.246794Z",
     "shell.execute_reply": "2025-07-02T14:27:27.245860Z"
    },
    "papermill": {
     "duration": 0.02128,
     "end_time": "2025-07-02T14:27:27.248517",
     "exception": false,
     "start_time": "2025-07-02T14:27:27.227237",
     "status": "completed"
    },
    "tags": []
   },
   "outputs": [
    {
     "data": {
      "text/plain": [
       "39"
      ]
     },
     "execution_count": 18,
     "metadata": {},
     "output_type": "execute_result"
    }
   ],
   "source": [
    "# 3. Подсчитайте количество строк в таблице df, одновременно удовлетворяющих условиям:\n",
    "#   petal_ratio > 4.0;\n",
    "#   sepal_length < 5.5.\n",
    "len(iris.query(\"petal_ratio > 4.0 and sepal_length < 5.5\"))"
   ]
  },
  {
   "cell_type": "code",
   "execution_count": 19,
   "id": "598a8fa7",
   "metadata": {
    "execution": {
     "iopub.execute_input": "2025-07-02T14:27:27.266665Z",
     "iopub.status.busy": "2025-07-02T14:27:27.266317Z",
     "iopub.status.idle": "2025-07-02T14:27:27.280260Z",
     "shell.execute_reply": "2025-07-02T14:27:27.279396Z"
    },
    "papermill": {
     "duration": 0.025069,
     "end_time": "2025-07-02T14:27:27.282028",
     "exception": false,
     "start_time": "2025-07-02T14:27:27.256959",
     "status": "completed"
    },
    "tags": []
   },
   "outputs": [
    {
     "data": {
      "text/plain": [
       "39"
      ]
     },
     "execution_count": 19,
     "metadata": {},
     "output_type": "execute_result"
    }
   ],
   "source": [
    "iris.query(\"petal_ratio > 4.0 and sepal_length < 5.5\").value_counts().sum()"
   ]
  },
  {
   "cell_type": "code",
   "execution_count": 20,
   "id": "f0f79d1c",
   "metadata": {
    "execution": {
     "iopub.execute_input": "2025-07-02T14:27:27.300534Z",
     "iopub.status.busy": "2025-07-02T14:27:27.300199Z",
     "iopub.status.idle": "2025-07-02T14:27:27.680594Z",
     "shell.execute_reply": "2025-07-02T14:27:27.679659Z"
    },
    "papermill": {
     "duration": 0.391789,
     "end_time": "2025-07-02T14:27:27.682226",
     "exception": false,
     "start_time": "2025-07-02T14:27:27.290437",
     "status": "completed"
    },
    "tags": []
   },
   "outputs": [
    {
     "name": "stderr",
     "output_type": "stream",
     "text": [
      "/usr/local/lib/python3.11/dist-packages/seaborn/_oldcore.py:1119: FutureWarning: use_inf_as_na option is deprecated and will be removed in a future version. Convert inf values to NaN before operating instead.\n",
      "  with pd.option_context('mode.use_inf_as_na', True):\n",
      "/usr/local/lib/python3.11/dist-packages/seaborn/_oldcore.py:1075: FutureWarning: When grouping with a length-1 list-like, you will need to pass a length-1 tuple to get_group in a future version of pandas. Pass `(name,)` instead of `name` to silence this warning.\n",
      "  data_subset = grouped_data.get_group(pd_key)\n",
      "/usr/local/lib/python3.11/dist-packages/seaborn/_oldcore.py:1075: FutureWarning: When grouping with a length-1 list-like, you will need to pass a length-1 tuple to get_group in a future version of pandas. Pass `(name,)` instead of `name` to silence this warning.\n",
      "  data_subset = grouped_data.get_group(pd_key)\n",
      "/usr/local/lib/python3.11/dist-packages/seaborn/_oldcore.py:1075: FutureWarning: When grouping with a length-1 list-like, you will need to pass a length-1 tuple to get_group in a future version of pandas. Pass `(name,)` instead of `name` to silence this warning.\n",
      "  data_subset = grouped_data.get_group(pd_key)\n",
      "/usr/local/lib/python3.11/dist-packages/seaborn/_oldcore.py:1075: FutureWarning: When grouping with a length-1 list-like, you will need to pass a length-1 tuple to get_group in a future version of pandas. Pass `(name,)` instead of `name` to silence this warning.\n",
      "  data_subset = grouped_data.get_group(pd_key)\n",
      "/usr/local/lib/python3.11/dist-packages/seaborn/_oldcore.py:1075: FutureWarning: When grouping with a length-1 list-like, you will need to pass a length-1 tuple to get_group in a future version of pandas. Pass `(name,)` instead of `name` to silence this warning.\n",
      "  data_subset = grouped_data.get_group(pd_key)\n"
     ]
    },
    {
     "data": {
      "text/plain": [
       "<Axes: xlabel='petal_ratio', ylabel='Count'>"
      ]
     },
     "execution_count": 20,
     "metadata": {},
     "output_type": "execute_result"
    },
    {
     "data": {
      "image/png": "[encoded data removed]",
      "text/plain": [
       "<Figure size 640x480 with 1 Axes>"
      ]
     },
     "metadata": {},
     "output_type": "display_data"
    }
   ],
   "source": [
    "# 4. Постройте гистограмму распределения признака petal_ratio, \n",
    "# используя параметр hue=\"species\" для разделения по видам.\n",
    "\n",
    "sns.histplot(\n",
    "    data=iris, \n",
    "    x='petal_ratio', \n",
    "    hue='species', \n",
    "    multiple='dodge')   #'stack', 'dodge', 'layer'"
   ]
  },
  {
   "cell_type": "markdown",
   "id": "ee84fdb2",
   "metadata": {
    "id": "XJb21eVrBP3v",
    "papermill": {
     "duration": 0.008315,
     "end_time": "2025-07-02T14:27:27.700203",
     "exception": false,
     "start_time": "2025-07-02T14:27:27.691888",
     "status": "completed"
    },
    "tags": []
   },
   "source": [
    "Задание 5. Сложная визуализация с множественными параметрами\n",
    "\n",
    "1.\tПостройте диаграмму рассеяния (scatterplot), где:\n",
    "\t*\tпо оси x — sepal_length,\n",
    "\t*\tпо оси y — sepal_width,\n",
    "\t*\tцвет (hue) кодирует species,\n",
    "\t*\tразмер точек (size) кодирует petal_width.\n",
    "2.\tПостройте два подграфика (subplot(1, 2, ...)) на одном figure:\n",
    "\t*\tлевый график — отображает все наблюдения;\n",
    "\t*\tправый график — отображает только наблюдения, где species принадлежит множеству {versicolor, virginica}.\n",
    "3.\tДобавьте подписи осей, заголовки к каждому подграфику, легенду, сетку. Сохраните итоговый график с высоким разрешением (dpi=300) в файл iris_scatter.png."
   ]
  },
  {
   "cell_type": "code",
   "execution_count": 21,
   "id": "124da6b9",
   "metadata": {
    "execution": {
     "iopub.execute_input": "2025-07-02T14:27:27.718891Z",
     "iopub.status.busy": "2025-07-02T14:27:27.718583Z",
     "iopub.status.idle": "2025-07-02T14:27:28.243376Z",
     "shell.execute_reply": "2025-07-02T14:27:28.242354Z"
    },
    "papermill": {
     "duration": 0.536127,
     "end_time": "2025-07-02T14:27:28.245155",
     "exception": false,
     "start_time": "2025-07-02T14:27:27.709028",
     "status": "completed"
    },
    "tags": []
   },
   "outputs": [
    {
     "data": {
      "text/plain": [
       "<Axes: xlabel='sepal_length', ylabel='sepal_width'>"
      ]
     },
     "execution_count": 21,
     "metadata": {},
     "output_type": "execute_result"
    },
    {
     "data": {
      "image/png": "[encoded data removed]",
      "text/plain": [
       "<Figure size 640x480 with 1 Axes>"
      ]
     },
     "metadata": {},
     "output_type": "display_data"
    }
   ],
   "source": [
    "# 1. Постройте диаграмму рассеяния (scatterplot), где:\n",
    "#   по оси x — sepal_length,\n",
    "#   по оси y — sepal_width,\n",
    "#   цвет (hue) кодирует species,\n",
    "#   размер точек (size) кодирует petal_width.\n",
    "sns.scatterplot(\n",
    "    x='sepal_length', \n",
    "    y='sepal_width', \n",
    "    hue='species',\n",
    "    size='petal_width',\n",
    "    data=iris)"
   ]
  },
  {
   "cell_type": "code",
   "execution_count": 22,
   "id": "38793905",
   "metadata": {
    "execution": {
     "iopub.execute_input": "2025-07-02T14:27:28.267589Z",
     "iopub.status.busy": "2025-07-02T14:27:28.266730Z",
     "iopub.status.idle": "2025-07-02T14:27:28.277624Z",
     "shell.execute_reply": "2025-07-02T14:27:28.276815Z"
    },
    "papermill": {
     "duration": 0.023079,
     "end_time": "2025-07-02T14:27:28.278958",
     "exception": false,
     "start_time": "2025-07-02T14:27:28.255879",
     "status": "completed"
    },
    "tags": []
   },
   "outputs": [
    {
     "data": {
      "text/html": [
       "<div>\n",
       "<style scoped>\n",
       "    .dataframe tbody tr th:only-of-type {\n",
       "        vertical-align: middle;\n",
       "    }\n",
       "\n",
       "    .dataframe tbody tr th {\n",
       "        vertical-align: top;\n",
       "    }\n",
       "\n",
       "    .dataframe thead th {\n",
       "        text-align: right;\n",
       "    }\n",
       "</style>\n",
       "<table border=\"1\" class=\"dataframe\">\n",
       "  <thead>\n",
       "    <tr style=\"text-align: right;\">\n",
       "      <th></th>\n",
       "      <th>petal_ratio</th>\n",
       "      <th>species</th>\n",
       "    </tr>\n",
       "  </thead>\n",
       "  <tbody>\n",
       "    <tr>\n",
       "      <th>0</th>\n",
       "      <td>7.000000</td>\n",
       "      <td>setosa</td>\n",
       "    </tr>\n",
       "    <tr>\n",
       "      <th>1</th>\n",
       "      <td>7.000000</td>\n",
       "      <td>setosa</td>\n",
       "    </tr>\n",
       "    <tr>\n",
       "      <th>2</th>\n",
       "      <td>6.500000</td>\n",
       "      <td>setosa</td>\n",
       "    </tr>\n",
       "    <tr>\n",
       "      <th>3</th>\n",
       "      <td>7.500000</td>\n",
       "      <td>setosa</td>\n",
       "    </tr>\n",
       "    <tr>\n",
       "      <th>4</th>\n",
       "      <td>7.000000</td>\n",
       "      <td>setosa</td>\n",
       "    </tr>\n",
       "    <tr>\n",
       "      <th>...</th>\n",
       "      <td>...</td>\n",
       "      <td>...</td>\n",
       "    </tr>\n",
       "    <tr>\n",
       "      <th>145</th>\n",
       "      <td>2.260870</td>\n",
       "      <td>virginica</td>\n",
       "    </tr>\n",
       "    <tr>\n",
       "      <th>146</th>\n",
       "      <td>2.631579</td>\n",
       "      <td>virginica</td>\n",
       "    </tr>\n",
       "    <tr>\n",
       "      <th>147</th>\n",
       "      <td>2.600000</td>\n",
       "      <td>virginica</td>\n",
       "    </tr>\n",
       "    <tr>\n",
       "      <th>148</th>\n",
       "      <td>2.347826</td>\n",
       "      <td>virginica</td>\n",
       "    </tr>\n",
       "    <tr>\n",
       "      <th>149</th>\n",
       "      <td>2.833333</td>\n",
       "      <td>virginica</td>\n",
       "    </tr>\n",
       "  </tbody>\n",
       "</table>\n",
       "<p>150 rows × 2 columns</p>\n",
       "</div>"
      ],
      "text/plain": [
       "     petal_ratio    species\n",
       "0       7.000000     setosa\n",
       "1       7.000000     setosa\n",
       "2       6.500000     setosa\n",
       "3       7.500000     setosa\n",
       "4       7.000000     setosa\n",
       "..           ...        ...\n",
       "145     2.260870  virginica\n",
       "146     2.631579  virginica\n",
       "147     2.600000  virginica\n",
       "148     2.347826  virginica\n",
       "149     2.833333  virginica\n",
       "\n",
       "[150 rows x 2 columns]"
      ]
     },
     "execution_count": 22,
     "metadata": {},
     "output_type": "execute_result"
    }
   ],
   "source": [
    "iris[['petal_ratio', 'species']]"
   ]
  },
  {
   "cell_type": "code",
   "execution_count": 23,
   "id": "b02638fa",
   "metadata": {
    "execution": {
     "iopub.execute_input": "2025-07-02T14:27:28.300138Z",
     "iopub.status.busy": "2025-07-02T14:27:28.299828Z",
     "iopub.status.idle": "2025-07-02T14:27:28.306448Z",
     "shell.execute_reply": "2025-07-02T14:27:28.305505Z"
    },
    "papermill": {
     "duration": 0.019081,
     "end_time": "2025-07-02T14:27:28.308103",
     "exception": false,
     "start_time": "2025-07-02T14:27:28.289022",
     "status": "completed"
    },
    "tags": []
   },
   "outputs": [
    {
     "data": {
      "text/plain": [
       "['setosa', 'versicolor', 'virginica']"
      ]
     },
     "execution_count": 23,
     "metadata": {},
     "output_type": "execute_result"
    }
   ],
   "source": [
    "iris['species'].unique().tolist()"
   ]
  },
  {
   "cell_type": "code",
   "execution_count": 24,
   "id": "fa8df819",
   "metadata": {
    "execution": {
     "iopub.execute_input": "2025-07-02T14:27:28.329370Z",
     "iopub.status.busy": "2025-07-02T14:27:28.329047Z",
     "iopub.status.idle": "2025-07-02T14:27:28.581833Z",
     "shell.execute_reply": "2025-07-02T14:27:28.580855Z"
    },
    "papermill": {
     "duration": 0.265259,
     "end_time": "2025-07-02T14:27:28.583433",
     "exception": false,
     "start_time": "2025-07-02T14:27:28.318174",
     "status": "completed"
    },
    "tags": []
   },
   "outputs": [
    {
     "data": {
      "image/png": "[encoded data removed]",
      "text/plain": [
       "<Figure size 500x300 with 1 Axes>"
      ]
     },
     "metadata": {},
     "output_type": "display_data"
    }
   ],
   "source": [
    "# 2. Постройте два подграфика (subplot(1, 2, ...)) на одном figure:\n",
    "#   левый график — отображает все наблюдения;\n",
    "#   правый график — отображает только наблюдения, \n",
    "#     где species принадлежит множеству {versicolor, virginica}.\n",
    "import matplotlib.pyplot as plt\n",
    "import numpy as np\n",
    "\n",
    "data = iris['petal_ratio']\n",
    "x = [i for i in range(0, 150)]\n",
    "lab = iris['species'].unique().tolist()\n",
    "fig, ax = plt.subplots(figsize=(5, 3))\n",
    "ax.stackplot(x, data, labels=lab)\n",
    "ax.set_title('Combined debt growth over time')\n",
    "ax.legend(loc='upper left')\n",
    "ax.set_xlabel('Года')\n",
    "ax.set_ylabel('Численность')\n",
    "ax.set_xlim(xmin=x[0], xmax=x[-1])\n",
    "fig.tight_layout()\n",
    "\n"
   ]
  },
  {
   "cell_type": "code",
   "execution_count": 25,
   "id": "979b5064",
   "metadata": {
    "execution": {
     "iopub.execute_input": "2025-07-02T14:27:28.607397Z",
     "iopub.status.busy": "2025-07-02T14:27:28.607035Z",
     "iopub.status.idle": "2025-07-02T14:27:28.614228Z",
     "shell.execute_reply": "2025-07-02T14:27:28.613232Z"
    },
    "papermill": {
     "duration": 0.021202,
     "end_time": "2025-07-02T14:27:28.615731",
     "exception": false,
     "start_time": "2025-07-02T14:27:28.594529",
     "status": "completed"
    },
    "tags": []
   },
   "outputs": [
    {
     "data": {
      "text/plain": [
       "array([[1, 2, 0, 9, 7, 7, 7, 9, 9, 0, 8, 5, 8, 6, 3, 1, 8, 5, 6, 4, 0, 3,\n",
       "        9, 1, 8, 1, 0, 4, 4, 4, 7, 0, 2, 5, 0, 4, 2, 3, 9, 2, 2, 7, 6, 8,\n",
       "        3, 3, 3, 4, 1, 7],\n",
       "       [2, 9, 0, 1, 9, 0, 4, 8, 0, 2, 6, 1, 2, 1, 8, 6, 0, 9, 1, 9, 3, 0,\n",
       "        5, 9, 2, 5, 7, 6, 8, 2, 9, 5, 3, 5, 6, 7, 5, 2, 3, 9, 0, 6, 3, 2,\n",
       "        3, 7, 7, 3, 4, 9],\n",
       "       [8, 5, 8, 2, 7, 5, 5, 1, 5, 2, 9, 9, 1, 2, 9, 7, 4, 9, 9, 3, 7, 3,\n",
       "        1, 8, 8, 5, 4, 4, 2, 5, 8, 9, 0, 3, 3, 9, 1, 4, 2, 8, 3, 5, 2, 7,\n",
       "        5, 5, 7, 3, 4, 6]])"
      ]
     },
     "execution_count": 25,
     "metadata": {},
     "output_type": "execute_result"
    }
   ],
   "source": [
    "rng = np.arange(50)\n",
    "rnd = np.random.randint(0, 10, size=(3, rng.size))\n",
    "rnd"
   ]
  },
  {
   "cell_type": "code",
   "execution_count": 26,
   "id": "01c56a78",
   "metadata": {
    "execution": {
     "iopub.execute_input": "2025-07-02T14:27:28.639722Z",
     "iopub.status.busy": "2025-07-02T14:27:28.639376Z",
     "iopub.status.idle": "2025-07-02T14:27:28.922529Z",
     "shell.execute_reply": "2025-07-02T14:27:28.921543Z"
    },
    "papermill": {
     "duration": 0.297152,
     "end_time": "2025-07-02T14:27:28.924351",
     "exception": false,
     "start_time": "2025-07-02T14:27:28.627199",
     "status": "completed"
    },
    "tags": []
   },
   "outputs": [
    {
     "data": {
      "image/png": "[encoded data removed]",
      "text/plain": [
       "<Figure size 1200x800 with 2 Axes>"
      ]
     },
     "metadata": {},
     "output_type": "display_data"
    }
   ],
   "source": [
    "gridsize = (1, 2)\n",
    "fig = plt.figure(figsize=(12, 8))\n",
    "ax1 = plt.subplot2grid(gridsize, (0, 0))\n",
    "ax2 = plt.subplot2grid(gridsize, (0, 1))\n",
    "\n",
    "y1 = iris['petal_ratio']\n",
    "#y2 = iris[['petal_ratio', 'species']].isin(['versicolor', 'virginica'])\n"
   ]
  },
  {
   "cell_type": "code",
   "execution_count": 27,
   "id": "4a9afe8c",
   "metadata": {
    "execution": {
     "iopub.execute_input": "2025-07-02T14:27:28.948314Z",
     "iopub.status.busy": "2025-07-02T14:27:28.947988Z",
     "iopub.status.idle": "2025-07-02T14:27:28.975019Z",
     "shell.execute_reply": "2025-07-02T14:27:28.974017Z"
    },
    "papermill": {
     "duration": 0.040695,
     "end_time": "2025-07-02T14:27:28.976671",
     "exception": false,
     "start_time": "2025-07-02T14:27:28.935976",
     "status": "completed"
    },
    "tags": []
   },
   "outputs": [
    {
     "data": {
      "text/plain": [
       "(array([38., 52., 17.,  7.,  2.,  3.,  4., 14.,  5.,  1.,  1.,  0.,  0.,\n",
       "         1.,  0.,  0.,  0.,  1.,  4.]),\n",
       " array([ 2.125     ,  2.80263158,  3.48026316,  4.15789474,  4.83552632,\n",
       "         5.51315789,  6.19078947,  6.86842105,  7.54605263,  8.22368421,\n",
       "         8.90131579,  9.57894737, 10.25657895, 10.93421053, 11.61184211,\n",
       "        12.28947368, 12.96710526, 13.64473684, 14.32236842, 15.        ]),\n",
       " <BarContainer object of 19 artists>)"
      ]
     },
     "execution_count": 27,
     "metadata": {},
     "output_type": "execute_result"
    }
   ],
   "source": [
    "ax2.hist(y1, bins='auto')\n",
    "#ax3.hist(y2, bins='auto', log=True)\n",
    "\n",
    "#add_titlebox(ax2, 'Histogram: home age')\n",
    "#add_titlebox(ax3, 'Histogram: area population (log scl.)')"
   ]
  }
 ],
 "metadata": {
  "colab": {
   "provenance": []
  },
  "kaggle": {
   "accelerator": "none",
   "dataSources": [
    {
     "datasetId": 2354152,
     "sourceId": 3966491,
     "sourceType": "datasetVersion"
    }
   ],
   "dockerImageVersionId": 31040,
   "isGpuEnabled": false,
   "isInternetEnabled": false,
   "language": "python",
   "sourceType": "notebook"
  },
  "kernelspec": {
   "display_name": "Python 3",
   "language": "python",
   "name": "python3"
  },
  "language_info": {
   "codemirror_mode": {
    "name": "ipython",
    "version": 3
   },
   "file_extension": ".py",
   "mimetype": "text/x-python",
   "name": "python",
   "nbconvert_exporter": "python",
   "pygments_lexer": "ipython3",
   "version": "3.11.11"
  },
  "papermill": {
   "default_parameters": {},
   "duration": 12.651021,
   "end_time": "2025-07-02T14:27:29.775131",
   "environment_variables": {},
   "exception": null,
   "input_path": "__notebook__.ipynb",
   "output_path": "__notebook__.ipynb",
   "parameters": {},
   "start_time": "2025-07-02T14:27:17.124110",
   "version": "2.6.0"
  }
 },
 "nbformat": 4,
 "nbformat_minor": 5
}
